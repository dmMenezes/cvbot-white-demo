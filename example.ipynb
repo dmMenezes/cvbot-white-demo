{
 "cells": [
  {
   "cell_type": "code",
   "execution_count": 1,
   "id": "99617745",
   "metadata": {},
   "outputs": [],
   "source": [
    "import asyncio\n",
    "import matplotlib.pyplot as plt\n",
    "import numpy as np\n",
    "\n",
    "from cvbot.communication.txtapiclient import TxtApiClient\n",
    "from cvbot.controller.easy_drive_controller import EasyDriveController\n",
    "from cvbot.config.drive_robot_configuration import DriveRobotConfiguration"
   ]
  },
  {
   "cell_type": "markdown",
   "id": "fa9da46b",
   "metadata": {},
   "source": [
    "### CVBot: How to\n",
    "This Example demomstrates which classes are needed to drive the Robot and make pictures.\n",
    "\n",
    "Note: the robot lives in a right-handed coordinate system, so the x-axis is to the right, the y-axis is down and the z-axis is forward."
   ]
  },
  {
   "cell_type": "code",
   "execution_count": 2,
   "id": "3b9f847d",
   "metadata": {},
   "outputs": [
    {
     "name": "stderr",
     "output_type": "stream",
     "text": [
      "d:\\Projects\\RAML\\cvbot-white\\.venv\\lib\\site-packages\\pydantic\\main.py:463: UserWarning: Pydantic serializer warnings:\n",
      "  PydanticSerializationUnexpectedValue(Expected `enum` - serialized value may not be as expected [input_value='CW', input_type=str])\n",
      "  return self.__pydantic_serializer__.to_python(\n"
     ]
    },
    {
     "data": {
      "text/plain": [
       "True"
      ]
     },
     "execution_count": 2,
     "metadata": {},
     "output_type": "execute_result"
    }
   ],
   "source": [
    "HOST = \"192.168.0.116\" # Fur USB it is \"192.168.7.2\"\n",
    "PORT = 80 # Port of the web server hosting the api, for the TXT its 80\n",
    "KEY = \"ZgbKBL\" # API key for the TXT controller, can be found in the UI of the TXT controller\n",
    "\n",
    "# The follwoing classes are needed to init the drive controller\n",
    "api_client = TxtApiClient(HOST, PORT, KEY)\n",
    "await api_client.initialize()\n",
    "controller = EasyDriveController(api_client, DriveRobotConfiguration())\n",
    "await controller.stop()\n"
   ]
  },
  {
   "cell_type": "code",
   "execution_count": 3,
   "id": "44cd12df",
   "metadata": {},
   "outputs": [
    {
     "ename": "AttributeError",
     "evalue": "'TxtApiClient' object has no attribute 'connected'",
     "output_type": "error",
     "traceback": [
      "\u001b[1;31m---------------------------------------------------------------------------\u001b[0m",
      "\u001b[1;31mAttributeError\u001b[0m                            Traceback (most recent call last)",
      "Cell \u001b[1;32mIn[3], line 1\u001b[0m\n\u001b[1;32m----> 1\u001b[0m \u001b[38;5;28;01mawait\u001b[39;00m api_client\u001b[38;5;241m.\u001b[39mconnected()\n",
      "\u001b[1;31mAttributeError\u001b[0m: 'TxtApiClient' object has no attribute 'connected'"
     ]
    }
   ],
   "source": [
    "await api_client.connected()"
   ]
  },
  {
   "cell_type": "code",
   "execution_count": 2,
   "id": "cb7875c8",
   "metadata": {},
   "outputs": [
    {
     "name": "stdout",
     "output_type": "stream",
     "text": [
      "192.168.0.116 80 ZgbKBL\n",
      "<class 'str'> <class 'str'> <class 'str'>\n"
     ]
    }
   ],
   "source": [
    "from dotenv import load_dotenv\n",
    "import os\n",
    "\n",
    "load_dotenv()  # loads .env from current dir\n",
    "HOST = os.getenv(\"HOST\")\n",
    "PORT = os.getenv(\"PORT\")\n",
    "KEY = os.getenv(\"KEY\")\n",
    "\n",
    "print(HOST, PORT, KEY)\n",
    "print(type(HOST), type(PORT), type(KEY))"
   ]
  },
  {
   "cell_type": "code",
   "execution_count": 3,
   "id": "f68a7a26",
   "metadata": {},
   "outputs": [
    {
     "name": "stderr",
     "output_type": "stream",
     "text": [
      "d:\\Projects\\RAML\\cvbot-white\\.venv\\lib\\site-packages\\pydantic\\main.py:463: UserWarning: Pydantic serializer warnings:\n",
      "  PydanticSerializationUnexpectedValue(Expected `enum` - serialized value may not be as expected [input_value='CW', input_type=str])\n",
      "  return self.__pydantic_serializer__.to_python(\n",
      "d:\\Projects\\RAML\\cvbot-white\\.venv\\lib\\site-packages\\pydantic\\main.py:463: UserWarning: Pydantic serializer warnings:\n",
      "  PydanticSerializationUnexpectedValue(Expected `enum` - serialized value may not be as expected [input_value='CCW', input_type=str])\n",
      "  return self.__pydantic_serializer__.to_python(\n"
     ]
    },
    {
     "data": {
      "text/plain": [
       "True"
      ]
     },
     "execution_count": 3,
     "metadata": {},
     "output_type": "execute_result"
    }
   ],
   "source": [
    "distance = 0.0\n",
    "angle = 10.0\n",
    "\n",
    "# The following classes are needed to init the drive controller\n",
    "api_client = TxtApiClient(HOST, PORT, KEY)\n",
    "controller = EasyDriveController(api_client, DriveRobotConfiguration())\n",
    "await api_client.initialize()\n",
    "    \n",
    "await controller.stop()\n",
    "\n",
    "while (angle > 5 ):\n",
    "    await controller.drive(speeds=np.array([0.0, 100.0, 0.0]))\n",
    "    angle = angle - 1\n",
    "    await asyncio.sleep(1.0)\n",
    "await controller.stop()\n",
    "\n",
    "while (distance > 5 ):\n",
    "    await controller.drive(speeds=np.array([0.0, 0.0, -100.0]))\n",
    "await controller.stop()\n",
    "\n",
    "    # first param turns front and rear in reverse\n",
    "    # second param rotate positive -> left\n",
    "    # third param forward (negative)\n",
    "    # await asyncio.sleep(1.0)"
   ]
  },
  {
   "cell_type": "code",
   "execution_count": null,
   "id": "58416b67",
   "metadata": {},
   "outputs": [],
   "source": [
    "\n",
    "await controller.drive(np.array([0.0, 0.0, 100])) \n",
    "# first param turns front and rear in reverse\n",
    "# second param rotate positive -> left\n",
    "# third param forward (negative)\n",
    "await asyncio.sleep(1.0)\n",
    "await controller.stop()\n"
   ]
  },
  {
   "cell_type": "code",
   "execution_count": null,
   "id": "9c2c72e9",
   "metadata": {},
   "outputs": [],
   "source": [
    "await controller.stop()"
   ]
  },
  {
   "cell_type": "markdown",
   "id": "3070ab1e",
   "metadata": {},
   "source": [
    "To drive straight, one can do:"
   ]
  },
  {
   "cell_type": "code",
   "execution_count": null,
   "id": "5f48ade1",
   "metadata": {},
   "outputs": [],
   "source": [
    "await controller.straight(5)\n",
    "await asyncio.sleep(1.0)\n",
    "await controller.stop()\n",
    "await controller.straight(20)\n",
    "await asyncio.sleep(1.0)\n",
    "await controller.stop()\n",
    "await controller.straight(50)\n",
    "await asyncio.sleep(1.0)\n",
    "await controller.stop()"
   ]
  },
  {
   "cell_type": "markdown",
   "id": "08ea3860",
   "metadata": {},
   "source": [
    "Sideways:"
   ]
  },
  {
   "cell_type": "code",
   "execution_count": null,
   "id": "53e63ff8",
   "metadata": {},
   "outputs": [],
   "source": [
    "\n",
    "await controller.side(10)\n",
    "await asyncio.sleep(1.0)\n",
    "await controller.stop()"
   ]
  },
  {
   "cell_type": "markdown",
   "id": "9e417e62",
   "metadata": {},
   "source": [
    "Diagonal:"
   ]
  },
  {
   "cell_type": "code",
   "execution_count": null,
   "id": "f561b728",
   "metadata": {},
   "outputs": [],
   "source": [
    "\n",
    "await controller.diagonal(10, 10)\n",
    "await asyncio.sleep(1.0)\n",
    "await controller.stop()"
   ]
  },
  {
   "cell_type": "markdown",
   "id": "9fdbdbac",
   "metadata": {},
   "source": [
    "Or all combined:"
   ]
  },
  {
   "cell_type": "markdown",
   "id": "c28c1e27",
   "metadata": {},
   "source": [
    "Images can be queried by:"
   ]
  },
  {
   "cell_type": "code",
   "execution_count": null,
   "id": "1b87d268",
   "metadata": {},
   "outputs": [],
   "source": [
    "frame = await anext(controller.camera())\n",
    "_ = plt.imshow(frame)"
   ]
  }
 ],
 "metadata": {
  "kernelspec": {
   "display_name": ".venv",
   "language": "python",
   "name": "python3"
  },
  "language_info": {
   "codemirror_mode": {
    "name": "ipython",
    "version": 3
   },
   "file_extension": ".py",
   "mimetype": "text/x-python",
   "name": "python",
   "nbconvert_exporter": "python",
   "pygments_lexer": "ipython3",
   "version": "3.10.11"
  }
 },
 "nbformat": 4,
 "nbformat_minor": 5
}
