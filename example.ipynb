{
 "cells": [
  {
   "cell_type": "code",
   "execution_count": 3,
   "id": "99617745",
   "metadata": {},
   "outputs": [],
   "source": [
    "import asyncio\n",
    "import matplotlib.pyplot as plt\n",
    "import numpy as np\n",
    "\n",
    "from cvbot.communication.txtapiclient import TxtApiClient\n",
    "from cvbot.controller.easy_drive_controller import EasyDriveController\n",
    "from cvbot.config.drive_robot_configuration import DriveRobotConfiguration"
   ]
  },
  {
   "cell_type": "markdown",
   "id": "fa9da46b",
   "metadata": {},
   "source": [
    "### CVBot: How to\n",
    "This Example demomstrates which classes are needed to drive the Robot and make pictures.\n",
    "\n",
    "Note: the robot lives in a right-handed coordinate system, so the x-axis is to the right, the y-axis is down and the z-axis is forward."
   ]
  },
  {
   "cell_type": "code",
   "execution_count": null,
   "id": "3b9f847d",
   "metadata": {},
   "outputs": [
    {
     "ename": "ClientConnectorError",
     "evalue": "Cannot connect to host 192.168.0.116:80 ssl:default [Connect call failed ('192.168.0.116', 80)]",
     "output_type": "error",
     "traceback": [
      "\u001b[1;31m---------------------------------------------------------------------------\u001b[0m",
      "\u001b[1;31mTimeoutError\u001b[0m                              Traceback (most recent call last)",
      "File \u001b[1;32md:\\Projects\\RAML\\cvbot-white-demo\\.venv\\lib\\site-packages\\aiohttp\\connector.py:1115\u001b[0m, in \u001b[0;36mTCPConnector._wrap_create_connection\u001b[1;34m(self, addr_infos, req, timeout, client_error, *args, **kwargs)\u001b[0m\n\u001b[0;32m   1112\u001b[0m \u001b[38;5;28;01masync\u001b[39;00m \u001b[38;5;28;01mwith\u001b[39;00m ceil_timeout(\n\u001b[0;32m   1113\u001b[0m     timeout\u001b[38;5;241m.\u001b[39msock_connect, ceil_threshold\u001b[38;5;241m=\u001b[39mtimeout\u001b[38;5;241m.\u001b[39mceil_threshold\n\u001b[0;32m   1114\u001b[0m ):\n\u001b[1;32m-> 1115\u001b[0m     sock \u001b[38;5;241m=\u001b[39m \u001b[38;5;28;01mawait\u001b[39;00m aiohappyeyeballs\u001b[38;5;241m.\u001b[39mstart_connection(\n\u001b[0;32m   1116\u001b[0m         addr_infos\u001b[38;5;241m=\u001b[39maddr_infos,\n\u001b[0;32m   1117\u001b[0m         local_addr_infos\u001b[38;5;241m=\u001b[39m\u001b[38;5;28mself\u001b[39m\u001b[38;5;241m.\u001b[39m_local_addr_infos,\n\u001b[0;32m   1118\u001b[0m         happy_eyeballs_delay\u001b[38;5;241m=\u001b[39m\u001b[38;5;28mself\u001b[39m\u001b[38;5;241m.\u001b[39m_happy_eyeballs_delay,\n\u001b[0;32m   1119\u001b[0m         interleave\u001b[38;5;241m=\u001b[39m\u001b[38;5;28mself\u001b[39m\u001b[38;5;241m.\u001b[39m_interleave,\n\u001b[0;32m   1120\u001b[0m         loop\u001b[38;5;241m=\u001b[39m\u001b[38;5;28mself\u001b[39m\u001b[38;5;241m.\u001b[39m_loop,\n\u001b[0;32m   1121\u001b[0m     )\n\u001b[0;32m   1122\u001b[0m     \u001b[38;5;28;01mreturn\u001b[39;00m \u001b[38;5;28;01mawait\u001b[39;00m \u001b[38;5;28mself\u001b[39m\u001b[38;5;241m.\u001b[39m_loop\u001b[38;5;241m.\u001b[39mcreate_connection(\u001b[38;5;241m*\u001b[39margs, \u001b[38;5;241m*\u001b[39m\u001b[38;5;241m*\u001b[39mkwargs, sock\u001b[38;5;241m=\u001b[39msock)\n",
      "File \u001b[1;32md:\\Projects\\RAML\\cvbot-white-demo\\.venv\\lib\\site-packages\\aiohappyeyeballs\\impl.py:122\u001b[0m, in \u001b[0;36mstart_connection\u001b[1;34m(addr_infos, local_addr_infos, happy_eyeballs_delay, interleave, loop, socket_factory)\u001b[0m\n\u001b[0;32m    121\u001b[0m \u001b[38;5;28;01mif\u001b[39;00m \u001b[38;5;28mlen\u001b[39m(all_exceptions) \u001b[38;5;241m==\u001b[39m \u001b[38;5;241m1\u001b[39m:\n\u001b[1;32m--> 122\u001b[0m     \u001b[38;5;28;01mraise\u001b[39;00m first_exception\n\u001b[0;32m    123\u001b[0m \u001b[38;5;28;01melse\u001b[39;00m:\n\u001b[0;32m    124\u001b[0m     \u001b[38;5;66;03m# If they all have the same str(), raise one.\u001b[39;00m\n",
      "File \u001b[1;32md:\\Projects\\RAML\\cvbot-white-demo\\.venv\\lib\\site-packages\\aiohappyeyeballs\\impl.py:73\u001b[0m, in \u001b[0;36mstart_connection\u001b[1;34m(addr_infos, local_addr_infos, happy_eyeballs_delay, interleave, loop, socket_factory)\u001b[0m\n\u001b[0;32m     72\u001b[0m \u001b[38;5;28;01mtry\u001b[39;00m:\n\u001b[1;32m---> 73\u001b[0m     sock \u001b[38;5;241m=\u001b[39m \u001b[38;5;28;01mawait\u001b[39;00m _connect_sock(\n\u001b[0;32m     74\u001b[0m         current_loop,\n\u001b[0;32m     75\u001b[0m         exceptions,\n\u001b[0;32m     76\u001b[0m         addrinfo,\n\u001b[0;32m     77\u001b[0m         local_addr_infos,\n\u001b[0;32m     78\u001b[0m         \u001b[38;5;28;01mNone\u001b[39;00m,\n\u001b[0;32m     79\u001b[0m         socket_factory,\n\u001b[0;32m     80\u001b[0m     )\n\u001b[0;32m     81\u001b[0m     \u001b[38;5;28;01mbreak\u001b[39;00m\n",
      "File \u001b[1;32md:\\Projects\\RAML\\cvbot-white-demo\\.venv\\lib\\site-packages\\aiohappyeyeballs\\impl.py:208\u001b[0m, in \u001b[0;36m_connect_sock\u001b[1;34m(loop, exceptions, addr_info, local_addr_infos, open_sockets, socket_factory)\u001b[0m\n\u001b[0;32m    207\u001b[0m             \u001b[38;5;28;01mraise\u001b[39;00m \u001b[38;5;167;01mOSError\u001b[39;00m(\u001b[38;5;124mf\u001b[39m\u001b[38;5;124m\"\u001b[39m\u001b[38;5;124mno matching local address with \u001b[39m\u001b[38;5;132;01m{\u001b[39;00mfamily\u001b[38;5;132;01m=}\u001b[39;00m\u001b[38;5;124m found\u001b[39m\u001b[38;5;124m\"\u001b[39m)\n\u001b[1;32m--> 208\u001b[0m \u001b[38;5;28;01mawait\u001b[39;00m loop\u001b[38;5;241m.\u001b[39msock_connect(sock, address)\n\u001b[0;32m    209\u001b[0m \u001b[38;5;28;01mreturn\u001b[39;00m sock\n",
      "File \u001b[1;32mC:\\Program Files\\WindowsApps\\PythonSoftwareFoundation.Python.3.10_3.10.3056.0_x64__qbz5n2kfra8p0\\lib\\asyncio\\selector_events.py:501\u001b[0m, in \u001b[0;36mBaseSelectorEventLoop.sock_connect\u001b[1;34m(self, sock, address)\u001b[0m\n\u001b[0;32m    500\u001b[0m \u001b[38;5;28;01mtry\u001b[39;00m:\n\u001b[1;32m--> 501\u001b[0m     \u001b[38;5;28;01mreturn\u001b[39;00m \u001b[38;5;28;01mawait\u001b[39;00m fut\n\u001b[0;32m    502\u001b[0m \u001b[38;5;28;01mfinally\u001b[39;00m:\n\u001b[0;32m    503\u001b[0m     \u001b[38;5;66;03m# Needed to break cycles when an exception occurs.\u001b[39;00m\n",
      "File \u001b[1;32mC:\\Program Files\\WindowsApps\\PythonSoftwareFoundation.Python.3.10_3.10.3056.0_x64__qbz5n2kfra8p0\\lib\\asyncio\\selector_events.py:541\u001b[0m, in \u001b[0;36mBaseSelectorEventLoop._sock_connect_cb\u001b[1;34m(self, fut, sock, address)\u001b[0m\n\u001b[0;32m    539\u001b[0m     \u001b[38;5;28;01mif\u001b[39;00m err \u001b[38;5;241m!=\u001b[39m \u001b[38;5;241m0\u001b[39m:\n\u001b[0;32m    540\u001b[0m         \u001b[38;5;66;03m# Jump to any except clause below.\u001b[39;00m\n\u001b[1;32m--> 541\u001b[0m         \u001b[38;5;28;01mraise\u001b[39;00m \u001b[38;5;167;01mOSError\u001b[39;00m(err, \u001b[38;5;124mf\u001b[39m\u001b[38;5;124m'\u001b[39m\u001b[38;5;124mConnect call failed \u001b[39m\u001b[38;5;132;01m{\u001b[39;00maddress\u001b[38;5;132;01m}\u001b[39;00m\u001b[38;5;124m'\u001b[39m)\n\u001b[0;32m    542\u001b[0m \u001b[38;5;28;01mexcept\u001b[39;00m (\u001b[38;5;167;01mBlockingIOError\u001b[39;00m, \u001b[38;5;167;01mInterruptedError\u001b[39;00m):\n\u001b[0;32m    543\u001b[0m     \u001b[38;5;66;03m# socket is still registered, the callback will be retried later\u001b[39;00m\n",
      "\u001b[1;31mTimeoutError\u001b[0m: [Errno 10060] Connect call failed ('192.168.0.116', 80)",
      "\nThe above exception was the direct cause of the following exception:\n",
      "\u001b[1;31mClientConnectorError\u001b[0m                      Traceback (most recent call last)",
      "Cell \u001b[1;32mIn[4], line 7\u001b[0m\n\u001b[0;32m      5\u001b[0m \u001b[38;5;66;03m# The follwoing classes are needed to init the drive controller\u001b[39;00m\n\u001b[0;32m      6\u001b[0m api_client \u001b[38;5;241m=\u001b[39m TxtApiClient(HOST, PORT, KEY)\n\u001b[1;32m----> 7\u001b[0m \u001b[38;5;28;01mawait\u001b[39;00m api_client\u001b[38;5;241m.\u001b[39minitialize()\n\u001b[0;32m      8\u001b[0m controller \u001b[38;5;241m=\u001b[39m EasyDriveController(api_client, DriveRobotConfiguration())\n\u001b[0;32m      9\u001b[0m \u001b[38;5;28;01mawait\u001b[39;00m controller\u001b[38;5;241m.\u001b[39mstop()\n",
      "File \u001b[1;32md:\\Projects\\RAML\\cvbot-white-demo\\cvbot\\communication\\controller.py:103\u001b[0m, in \u001b[0;36mController.initialize\u001b[1;34m(self)\u001b[0m\n\u001b[0;32m    101\u001b[0m \u001b[38;5;28;01masync\u001b[39;00m \u001b[38;5;28;01mdef\u001b[39;00m\u001b[38;5;250m \u001b[39m\u001b[38;5;21minitialize\u001b[39m(\u001b[38;5;28mself\u001b[39m) \u001b[38;5;241m-\u001b[39m\u001b[38;5;241m>\u001b[39m \u001b[38;5;28;01mNone\u001b[39;00m:\n\u001b[0;32m    102\u001b[0m \u001b[38;5;250m    \u001b[39m\u001b[38;5;124;03m\"\"\"Initializes the controller, by discovering the devices and setting them to the controller.\"\"\"\u001b[39;00m\n\u001b[1;32m--> 103\u001b[0m     \u001b[38;5;28mself\u001b[39m\u001b[38;5;241m.\u001b[39mset_devices(\u001b[38;5;241m*\u001b[39m[v \u001b[38;5;28;01mfor\u001b[39;00m k, v \u001b[38;5;129;01min\u001b[39;00m (\u001b[38;5;28;01mawait\u001b[39;00m \u001b[38;5;28mself\u001b[39m\u001b[38;5;241m.\u001b[39mdiscover_devices())\u001b[38;5;241m.\u001b[39mitems()])\n\u001b[0;32m    104\u001b[0m     \u001b[38;5;28mself\u001b[39m\u001b[38;5;241m.\u001b[39m_initialized \u001b[38;5;241m=\u001b[39m \u001b[38;5;28;01mTrue\u001b[39;00m\n",
      "File \u001b[1;32md:\\Projects\\RAML\\cvbot-white-demo\\cvbot\\communication\\txtapiclient.py:88\u001b[0m, in \u001b[0;36mTxtApiClient.discover_devices\u001b[1;34m(self)\u001b[0m\n\u001b[0;32m     85\u001b[0m devices \u001b[38;5;241m=\u001b[39m \u001b[38;5;28mdict\u001b[39m()\n\u001b[0;32m     87\u001b[0m \u001b[38;5;66;03m# Initialize controller\u001b[39;00m\n\u001b[1;32m---> 88\u001b[0m \u001b[38;5;28;01mawait\u001b[39;00m \u001b[38;5;28mself\u001b[39m\u001b[38;5;241m.\u001b[39mapi\u001b[38;5;241m.\u001b[39minit_controller_by_id(\u001b[38;5;241m0\u001b[39m)\n\u001b[0;32m     90\u001b[0m \u001b[38;5;66;03m##### Discover actuators #####\u001b[39;00m\n\u001b[0;32m     91\u001b[0m \u001b[38;5;66;03m# As the txt api does not support a motor lookup, we need to set the motors to zero speed.\u001b[39;00m\n\u001b[0;32m     92\u001b[0m api_motors \u001b[38;5;241m=\u001b[39m [\n\u001b[0;32m     93\u001b[0m     TxtApiMotor(enabled\u001b[38;5;241m=\u001b[39m\u001b[38;5;28;01mTrue\u001b[39;00m, values\u001b[38;5;241m=\u001b[39m[\u001b[38;5;241m0\u001b[39m], direction\u001b[38;5;241m=\u001b[39m\u001b[38;5;124m\"\u001b[39m\u001b[38;5;124mCW\u001b[39m\u001b[38;5;124m\"\u001b[39m, name\u001b[38;5;241m=\u001b[39m\u001b[38;5;124m\"\u001b[39m\u001b[38;5;124mM\u001b[39m\u001b[38;5;124m\"\u001b[39m \u001b[38;5;241m+\u001b[39m \u001b[38;5;28mstr\u001b[39m(i))\n\u001b[0;32m     94\u001b[0m     \u001b[38;5;28;01mfor\u001b[39;00m i \u001b[38;5;129;01min\u001b[39;00m \u001b[38;5;28mrange\u001b[39m(\u001b[38;5;241m1\u001b[39m, \u001b[38;5;241m5\u001b[39m)\n\u001b[0;32m     95\u001b[0m ]\n",
      "File \u001b[1;32md:\\Projects\\RAML\\cvbot-white-demo\\.venv\\lib\\site-packages\\cvtxtclient\\api\\controller.py:220\u001b[0m, in \u001b[0;36mControllerAPI.init_controller_by_id\u001b[1;34m(self, controller_id)\u001b[0m\n\u001b[0;32m    218\u001b[0m \u001b[38;5;250m\u001b[39m\u001b[38;5;124;03m\"\"\"Initializes a controller with the specified ID.\"\"\"\u001b[39;00m\n\u001b[0;32m    219\u001b[0m url \u001b[38;5;241m=\u001b[39m \u001b[38;5;124mf\u001b[39m\u001b[38;5;124m\"\u001b[39m\u001b[38;5;132;01m{\u001b[39;00m\u001b[38;5;28mself\u001b[39m\u001b[38;5;241m.\u001b[39mconfig\u001b[38;5;241m.\u001b[39mbase_url\u001b[38;5;132;01m}\u001b[39;00m\u001b[38;5;124m/controller/\u001b[39m\u001b[38;5;132;01m{\u001b[39;00mcontroller_id\u001b[38;5;132;01m}\u001b[39;00m\u001b[38;5;124m\"\u001b[39m\n\u001b[1;32m--> 220\u001b[0m \u001b[38;5;28;01masync\u001b[39;00m \u001b[38;5;28;01mwith\u001b[39;00m \u001b[38;5;28mself\u001b[39m\u001b[38;5;241m.\u001b[39msession\u001b[38;5;241m.\u001b[39mpost(url, headers\u001b[38;5;241m=\u001b[39m\u001b[38;5;28mself\u001b[39m\u001b[38;5;241m.\u001b[39mget_headers()) \u001b[38;5;28;01mas\u001b[39;00m response:\n\u001b[0;32m    221\u001b[0m     \u001b[38;5;28;01mif\u001b[39;00m response\u001b[38;5;241m.\u001b[39mstatus \u001b[38;5;241m==\u001b[39m \u001b[38;5;241m200\u001b[39m:\n\u001b[0;32m    222\u001b[0m         \u001b[38;5;28;01mreturn\u001b[39;00m  \u001b[38;5;66;03m# OK\u001b[39;00m\n",
      "File \u001b[1;32md:\\Projects\\RAML\\cvbot-white-demo\\.venv\\lib\\site-packages\\aiohttp\\client.py:1425\u001b[0m, in \u001b[0;36m_BaseRequestContextManager.__aenter__\u001b[1;34m(self)\u001b[0m\n\u001b[0;32m   1424\u001b[0m \u001b[38;5;28;01masync\u001b[39;00m \u001b[38;5;28;01mdef\u001b[39;00m\u001b[38;5;250m \u001b[39m\u001b[38;5;21m__aenter__\u001b[39m(\u001b[38;5;28mself\u001b[39m) \u001b[38;5;241m-\u001b[39m\u001b[38;5;241m>\u001b[39m _RetType:\n\u001b[1;32m-> 1425\u001b[0m     \u001b[38;5;28mself\u001b[39m\u001b[38;5;241m.\u001b[39m_resp: _RetType \u001b[38;5;241m=\u001b[39m \u001b[38;5;28;01mawait\u001b[39;00m \u001b[38;5;28mself\u001b[39m\u001b[38;5;241m.\u001b[39m_coro\n\u001b[0;32m   1426\u001b[0m     \u001b[38;5;28;01mreturn\u001b[39;00m \u001b[38;5;28;01mawait\u001b[39;00m \u001b[38;5;28mself\u001b[39m\u001b[38;5;241m.\u001b[39m_resp\u001b[38;5;241m.\u001b[39m\u001b[38;5;21m__aenter__\u001b[39m()\n",
      "File \u001b[1;32md:\\Projects\\RAML\\cvbot-white-demo\\.venv\\lib\\site-packages\\aiohttp\\client.py:703\u001b[0m, in \u001b[0;36mClientSession._request\u001b[1;34m(self, method, str_or_url, params, data, json, cookies, headers, skip_auto_headers, auth, allow_redirects, max_redirects, compress, chunked, expect100, raise_for_status, read_until_eof, proxy, proxy_auth, timeout, verify_ssl, fingerprint, ssl_context, ssl, server_hostname, proxy_headers, trace_request_ctx, read_bufsize, auto_decompress, max_line_size, max_field_size)\u001b[0m\n\u001b[0;32m    701\u001b[0m \u001b[38;5;66;03m# connection timeout\u001b[39;00m\n\u001b[0;32m    702\u001b[0m \u001b[38;5;28;01mtry\u001b[39;00m:\n\u001b[1;32m--> 703\u001b[0m     conn \u001b[38;5;241m=\u001b[39m \u001b[38;5;28;01mawait\u001b[39;00m \u001b[38;5;28mself\u001b[39m\u001b[38;5;241m.\u001b[39m_connector\u001b[38;5;241m.\u001b[39mconnect(\n\u001b[0;32m    704\u001b[0m         req, traces\u001b[38;5;241m=\u001b[39mtraces, timeout\u001b[38;5;241m=\u001b[39mreal_timeout\n\u001b[0;32m    705\u001b[0m     )\n\u001b[0;32m    706\u001b[0m \u001b[38;5;28;01mexcept\u001b[39;00m asyncio\u001b[38;5;241m.\u001b[39mTimeoutError \u001b[38;5;28;01mas\u001b[39;00m exc:\n\u001b[0;32m    707\u001b[0m     \u001b[38;5;28;01mraise\u001b[39;00m ConnectionTimeoutError(\n\u001b[0;32m    708\u001b[0m         \u001b[38;5;124mf\u001b[39m\u001b[38;5;124m\"\u001b[39m\u001b[38;5;124mConnection timeout to host \u001b[39m\u001b[38;5;132;01m{\u001b[39;00murl\u001b[38;5;132;01m}\u001b[39;00m\u001b[38;5;124m\"\u001b[39m\n\u001b[0;32m    709\u001b[0m     ) \u001b[38;5;28;01mfrom\u001b[39;00m\u001b[38;5;250m \u001b[39m\u001b[38;5;21;01mexc\u001b[39;00m\n",
      "File \u001b[1;32md:\\Projects\\RAML\\cvbot-white-demo\\.venv\\lib\\site-packages\\aiohttp\\connector.py:548\u001b[0m, in \u001b[0;36mBaseConnector.connect\u001b[1;34m(self, req, traces, timeout)\u001b[0m\n\u001b[0;32m    546\u001b[0m     \u001b[38;5;28;01mfor\u001b[39;00m trace \u001b[38;5;129;01min\u001b[39;00m traces:\n\u001b[0;32m    547\u001b[0m         \u001b[38;5;28;01mawait\u001b[39;00m trace\u001b[38;5;241m.\u001b[39msend_connection_create_start()\n\u001b[1;32m--> 548\u001b[0m proto \u001b[38;5;241m=\u001b[39m \u001b[38;5;28;01mawait\u001b[39;00m \u001b[38;5;28mself\u001b[39m\u001b[38;5;241m.\u001b[39m_create_connection(req, traces, timeout)\n\u001b[0;32m    549\u001b[0m \u001b[38;5;28;01mif\u001b[39;00m traces:\n\u001b[0;32m    550\u001b[0m     \u001b[38;5;28;01mfor\u001b[39;00m trace \u001b[38;5;129;01min\u001b[39;00m traces:\n",
      "File \u001b[1;32md:\\Projects\\RAML\\cvbot-white-demo\\.venv\\lib\\site-packages\\aiohttp\\connector.py:1056\u001b[0m, in \u001b[0;36mTCPConnector._create_connection\u001b[1;34m(self, req, traces, timeout)\u001b[0m\n\u001b[0;32m   1054\u001b[0m     _, proto \u001b[38;5;241m=\u001b[39m \u001b[38;5;28;01mawait\u001b[39;00m \u001b[38;5;28mself\u001b[39m\u001b[38;5;241m.\u001b[39m_create_proxy_connection(req, traces, timeout)\n\u001b[0;32m   1055\u001b[0m \u001b[38;5;28;01melse\u001b[39;00m:\n\u001b[1;32m-> 1056\u001b[0m     _, proto \u001b[38;5;241m=\u001b[39m \u001b[38;5;28;01mawait\u001b[39;00m \u001b[38;5;28mself\u001b[39m\u001b[38;5;241m.\u001b[39m_create_direct_connection(req, traces, timeout)\n\u001b[0;32m   1058\u001b[0m \u001b[38;5;28;01mreturn\u001b[39;00m proto\n",
      "File \u001b[1;32md:\\Projects\\RAML\\cvbot-white-demo\\.venv\\lib\\site-packages\\aiohttp\\connector.py:1406\u001b[0m, in \u001b[0;36mTCPConnector._create_direct_connection\u001b[1;34m(self, req, traces, timeout, client_error)\u001b[0m\n\u001b[0;32m   1404\u001b[0m \u001b[38;5;28;01melse\u001b[39;00m:\n\u001b[0;32m   1405\u001b[0m     \u001b[38;5;28;01massert\u001b[39;00m last_exc \u001b[38;5;129;01mis\u001b[39;00m \u001b[38;5;129;01mnot\u001b[39;00m \u001b[38;5;28;01mNone\u001b[39;00m\n\u001b[1;32m-> 1406\u001b[0m     \u001b[38;5;28;01mraise\u001b[39;00m last_exc\n",
      "File \u001b[1;32md:\\Projects\\RAML\\cvbot-white-demo\\.venv\\lib\\site-packages\\aiohttp\\connector.py:1375\u001b[0m, in \u001b[0;36mTCPConnector._create_direct_connection\u001b[1;34m(self, req, traces, timeout, client_error)\u001b[0m\n\u001b[0;32m   1370\u001b[0m server_hostname \u001b[38;5;241m=\u001b[39m (\n\u001b[0;32m   1371\u001b[0m     (req\u001b[38;5;241m.\u001b[39mserver_hostname \u001b[38;5;129;01mor\u001b[39;00m host)\u001b[38;5;241m.\u001b[39mrstrip(\u001b[38;5;124m\"\u001b[39m\u001b[38;5;124m.\u001b[39m\u001b[38;5;124m\"\u001b[39m) \u001b[38;5;28;01mif\u001b[39;00m sslcontext \u001b[38;5;28;01melse\u001b[39;00m \u001b[38;5;28;01mNone\u001b[39;00m\n\u001b[0;32m   1372\u001b[0m )\n\u001b[0;32m   1374\u001b[0m \u001b[38;5;28;01mtry\u001b[39;00m:\n\u001b[1;32m-> 1375\u001b[0m     transp, proto \u001b[38;5;241m=\u001b[39m \u001b[38;5;28;01mawait\u001b[39;00m \u001b[38;5;28mself\u001b[39m\u001b[38;5;241m.\u001b[39m_wrap_create_connection(\n\u001b[0;32m   1376\u001b[0m         \u001b[38;5;28mself\u001b[39m\u001b[38;5;241m.\u001b[39m_factory,\n\u001b[0;32m   1377\u001b[0m         timeout\u001b[38;5;241m=\u001b[39mtimeout,\n\u001b[0;32m   1378\u001b[0m         ssl\u001b[38;5;241m=\u001b[39msslcontext,\n\u001b[0;32m   1379\u001b[0m         addr_infos\u001b[38;5;241m=\u001b[39maddr_infos,\n\u001b[0;32m   1380\u001b[0m         server_hostname\u001b[38;5;241m=\u001b[39mserver_hostname,\n\u001b[0;32m   1381\u001b[0m         req\u001b[38;5;241m=\u001b[39mreq,\n\u001b[0;32m   1382\u001b[0m         client_error\u001b[38;5;241m=\u001b[39mclient_error,\n\u001b[0;32m   1383\u001b[0m     )\n\u001b[0;32m   1384\u001b[0m \u001b[38;5;28;01mexcept\u001b[39;00m (ClientConnectorError, asyncio\u001b[38;5;241m.\u001b[39mTimeoutError) \u001b[38;5;28;01mas\u001b[39;00m exc:\n\u001b[0;32m   1385\u001b[0m     last_exc \u001b[38;5;241m=\u001b[39m exc\n",
      "File \u001b[1;32md:\\Projects\\RAML\\cvbot-white-demo\\.venv\\lib\\site-packages\\aiohttp\\connector.py:1130\u001b[0m, in \u001b[0;36mTCPConnector._wrap_create_connection\u001b[1;34m(self, addr_infos, req, timeout, client_error, *args, **kwargs)\u001b[0m\n\u001b[0;32m   1128\u001b[0m \u001b[38;5;28;01mif\u001b[39;00m exc\u001b[38;5;241m.\u001b[39merrno \u001b[38;5;129;01mis\u001b[39;00m \u001b[38;5;28;01mNone\u001b[39;00m \u001b[38;5;129;01mand\u001b[39;00m \u001b[38;5;28misinstance\u001b[39m(exc, asyncio\u001b[38;5;241m.\u001b[39mTimeoutError):\n\u001b[0;32m   1129\u001b[0m     \u001b[38;5;28;01mraise\u001b[39;00m\n\u001b[1;32m-> 1130\u001b[0m \u001b[38;5;28;01mraise\u001b[39;00m client_error(req\u001b[38;5;241m.\u001b[39mconnection_key, exc) \u001b[38;5;28;01mfrom\u001b[39;00m\u001b[38;5;250m \u001b[39m\u001b[38;5;21;01mexc\u001b[39;00m\n",
      "\u001b[1;31mClientConnectorError\u001b[0m: Cannot connect to host 192.168.0.116:80 ssl:default [Connect call failed ('192.168.0.116', 80)]"
     ]
    }
   ],
   "source": [
    "HOST = \"192.168.4.14\" # Fur USB it is \"192.168.7.2\"\n",
    "PORT = 80 # Port of the web server hosting the api, for the TXT its 80\n",
    "KEY = \"ZgbKBL\" # API key for the TXT controller, can be found in the UI of the TXT controller\n",
    "\n",
    "# The follwoing classes are needed to init the drive controller\n",
    "api_client = TxtApiClient(HOST, PORT, KEY)\n",
    "await api_client.initialize()\n",
    "controller = EasyDriveController(api_client, DriveRobotConfiguration())\n",
    "await controller.stop()\n"
   ]
  },
  {
   "cell_type": "code",
   "execution_count": 3,
   "id": "44cd12df",
   "metadata": {},
   "outputs": [
    {
     "ename": "AttributeError",
     "evalue": "'TxtApiClient' object has no attribute 'connected'",
     "output_type": "error",
     "traceback": [
      "\u001b[1;31m---------------------------------------------------------------------------\u001b[0m",
      "\u001b[1;31mAttributeError\u001b[0m                            Traceback (most recent call last)",
      "Cell \u001b[1;32mIn[3], line 1\u001b[0m\n\u001b[1;32m----> 1\u001b[0m \u001b[38;5;28;01mawait\u001b[39;00m api_client\u001b[38;5;241m.\u001b[39mconnected()\n",
      "\u001b[1;31mAttributeError\u001b[0m: 'TxtApiClient' object has no attribute 'connected'"
     ]
    }
   ],
   "source": [
    "await api_client.connected()"
   ]
  },
  {
   "cell_type": "code",
   "execution_count": 2,
   "id": "cb7875c8",
   "metadata": {},
   "outputs": [
    {
     "name": "stdout",
     "output_type": "stream",
     "text": [
      "192.168.0.116 80 ZgbKBL\n",
      "<class 'str'> <class 'str'> <class 'str'>\n"
     ]
    }
   ],
   "source": [
    "from dotenv import load_dotenv\n",
    "import os\n",
    "\n",
    "load_dotenv()  # loads .env from current dir\n",
    "HOST = os.getenv(\"HOST\")\n",
    "PORT = os.getenv(\"PORT\")\n",
    "KEY = os.getenv(\"KEY\")\n",
    "\n",
    "print(HOST, PORT, KEY)\n",
    "print(type(HOST), type(PORT), type(KEY))"
   ]
  },
  {
   "cell_type": "code",
   "execution_count": 3,
   "id": "f68a7a26",
   "metadata": {},
   "outputs": [
    {
     "name": "stderr",
     "output_type": "stream",
     "text": [
      "d:\\Projects\\RAML\\cvbot-white\\.venv\\lib\\site-packages\\pydantic\\main.py:463: UserWarning: Pydantic serializer warnings:\n",
      "  PydanticSerializationUnexpectedValue(Expected `enum` - serialized value may not be as expected [input_value='CW', input_type=str])\n",
      "  return self.__pydantic_serializer__.to_python(\n",
      "d:\\Projects\\RAML\\cvbot-white\\.venv\\lib\\site-packages\\pydantic\\main.py:463: UserWarning: Pydantic serializer warnings:\n",
      "  PydanticSerializationUnexpectedValue(Expected `enum` - serialized value may not be as expected [input_value='CCW', input_type=str])\n",
      "  return self.__pydantic_serializer__.to_python(\n"
     ]
    },
    {
     "data": {
      "text/plain": [
       "True"
      ]
     },
     "execution_count": 3,
     "metadata": {},
     "output_type": "execute_result"
    }
   ],
   "source": [
    "distance = 0.0\n",
    "angle = 10.0\n",
    "\n",
    "# The following classes are needed to init the drive controller\n",
    "api_client = TxtApiClient(HOST, PORT, KEY)\n",
    "controller = EasyDriveController(api_client, DriveRobotConfiguration())\n",
    "await api_client.initialize()\n",
    "    \n",
    "await controller.stop()\n",
    "\n",
    "while (angle > 5 ):\n",
    "    await controller.drive(speeds=np.array([0.0, 100.0, 0.0]))\n",
    "    angle = angle - 1\n",
    "    await asyncio.sleep(1.0)\n",
    "await controller.stop()\n",
    "\n",
    "while (distance > 5 ):\n",
    "    await controller.drive(speeds=np.array([0.0, 0.0, -100.0]))\n",
    "await controller.stop()\n",
    "\n",
    "    # first param turns front and rear in reverse\n",
    "    # second param rotate positive -> left\n",
    "    # third param forward (negative)\n",
    "    # await asyncio.sleep(1.0)"
   ]
  },
  {
   "cell_type": "code",
   "execution_count": null,
   "id": "58416b67",
   "metadata": {},
   "outputs": [],
   "source": [
    "\n",
    "await controller.drive(np.array([0.0, 0.0, 100])) \n",
    "# first param turns front and rear in reverse\n",
    "# second param rotate positive -> left\n",
    "# third param forward (negative)\n",
    "await asyncio.sleep(1.0)\n",
    "await controller.stop()\n"
   ]
  },
  {
   "cell_type": "code",
   "execution_count": null,
   "id": "9c2c72e9",
   "metadata": {},
   "outputs": [],
   "source": [
    "await controller.stop()"
   ]
  },
  {
   "cell_type": "markdown",
   "id": "3070ab1e",
   "metadata": {},
   "source": [
    "To drive straight, one can do:"
   ]
  },
  {
   "cell_type": "code",
   "execution_count": null,
   "id": "5f48ade1",
   "metadata": {},
   "outputs": [],
   "source": [
    "await controller.straight(5)\n",
    "await asyncio.sleep(1.0)\n",
    "await controller.stop()\n",
    "await controller.straight(20)\n",
    "await asyncio.sleep(1.0)\n",
    "await controller.stop()\n",
    "await controller.straight(50)\n",
    "await asyncio.sleep(1.0)\n",
    "await controller.stop()"
   ]
  },
  {
   "cell_type": "markdown",
   "id": "08ea3860",
   "metadata": {},
   "source": [
    "Sideways:"
   ]
  },
  {
   "cell_type": "code",
   "execution_count": null,
   "id": "53e63ff8",
   "metadata": {},
   "outputs": [],
   "source": [
    "\n",
    "await controller.side(10)\n",
    "await asyncio.sleep(1.0)\n",
    "await controller.stop()"
   ]
  },
  {
   "cell_type": "markdown",
   "id": "9e417e62",
   "metadata": {},
   "source": [
    "Diagonal:"
   ]
  },
  {
   "cell_type": "code",
   "execution_count": null,
   "id": "f561b728",
   "metadata": {},
   "outputs": [],
   "source": [
    "\n",
    "await controller.diagonal(10, 10)\n",
    "await asyncio.sleep(1.0)\n",
    "await controller.stop()"
   ]
  },
  {
   "cell_type": "markdown",
   "id": "9fdbdbac",
   "metadata": {},
   "source": [
    "Or all combined:"
   ]
  },
  {
   "cell_type": "markdown",
   "id": "c28c1e27",
   "metadata": {},
   "source": [
    "Images can be queried by:"
   ]
  },
  {
   "cell_type": "code",
   "execution_count": null,
   "id": "1b87d268",
   "metadata": {},
   "outputs": [],
   "source": [
    "frame = await anext(controller.camera())\n",
    "_ = plt.imshow(frame)"
   ]
  }
 ],
 "metadata": {
  "kernelspec": {
   "display_name": ".venv",
   "language": "python",
   "name": "python3"
  },
  "language_info": {
   "codemirror_mode": {
    "name": "ipython",
    "version": 3
   },
   "file_extension": ".py",
   "mimetype": "text/x-python",
   "name": "python",
   "nbconvert_exporter": "python",
   "pygments_lexer": "ipython3",
   "version": "3.10.11"
  }
 },
 "nbformat": 4,
 "nbformat_minor": 5
}
